{
 "cells": [
  {
   "cell_type": "code",
   "execution_count": 3,
   "metadata": {},
   "outputs": [
    {
     "name": "stdout",
     "output_type": "stream",
     "text": [
      "[2, 1, 3, 5, 7, 9]\n"
     ]
    }
   ],
   "source": [
    "# 1. sort the odd numbers.\n",
    "def sort_array(arr):\n",
    "    odds=sorted((x for x in arr if x%2!=0), reverse=True)\n",
    "    print([x if x%2==0 else odds.pop() for x in arr])\n",
    "    \n",
    "arr=[2,5,3,7,1,9]\n",
    "sort_array(arr)"
   ]
  },
  {
   "cell_type": "code",
   "execution_count": 2,
   "metadata": {},
   "outputs": [
    {
     "data": {
      "text/plain": [
       "False"
      ]
     },
     "execution_count": 2,
     "metadata": {},
     "output_type": "execute_result"
    }
   ],
   "source": [
    "# 2. ATM PIN CODE\n",
    "# Suppose ATM only allow 4 to 6 number digits\n",
    "\n",
    "def validate_pin(pin):\n",
    "    return len(pin) in (4,6) and pin.isdigit()\n",
    "\n",
    "validate_pin(\"-1.234\")\n"
   ]
  },
  {
   "cell_type": "code",
   "execution_count": 11,
   "metadata": {},
   "outputs": [
    {
     "data": {
      "text/plain": [
       "[0, 1, 2, 3, 6, 11, 20, 37, 68, 125]"
      ]
     },
     "execution_count": 11,
     "metadata": {},
     "output_type": "execute_result"
    }
   ],
   "source": [
    "#4. number sequence, the next number is the sum of previous 3 numbers\n",
    "\n",
    "def tri2(nums_list,n):\n",
    "    res=nums_list[:n]\n",
    "    for i in range(n-3):\n",
    "        res.append(sum(res[-3:]))\n",
    "    return res\n",
    "tri2([0,1,2],10)"
   ]
  },
  {
   "cell_type": "code",
   "execution_count": 12,
   "metadata": {},
   "outputs": [
    {
     "data": {
      "text/plain": [
       "'Right'"
      ]
     },
     "execution_count": 12,
     "metadata": {},
     "output_type": "execute_result"
    }
   ],
   "source": [
    "#5. if ?=3, !=2 check if the equation is balanced.\n",
    "\n",
    "def balance(left, right):\n",
    "    v1=left.count(\"!\")*2+left.count(\"?\")*3\n",
    "    v2=right.count(\"!\")*2+right.count(\"?\")*3\n",
    "    val=v1-v2\n",
    "    return \"Right\" if val<0 else \"Left\" if val>0 else \"Balance\"\n",
    "\n",
    "balance(\"!!!??!\", \"?!?!??\")"
   ]
  },
  {
   "cell_type": "code",
   "execution_count": null,
   "metadata": {
    "collapsed": true
   },
   "outputs": [],
   "source": []
  }
 ],
 "metadata": {
  "kernelspec": {
   "display_name": "Python 3",
   "language": "python",
   "name": "python3"
  },
  "language_info": {
   "codemirror_mode": {
    "name": "ipython",
    "version": 3
   },
   "file_extension": ".py",
   "mimetype": "text/x-python",
   "name": "python",
   "nbconvert_exporter": "python",
   "pygments_lexer": "ipython3",
   "version": "3.6.3"
  }
 },
 "nbformat": 4,
 "nbformat_minor": 2
}
