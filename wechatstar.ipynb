{
 "cells": [
  {
   "cell_type": "markdown",
   "metadata": {},
   "source": [
    "#### Application of * in Python\n",
    "\n",
    "##### 1. Inlcude the info in the new variable\n",
    "##### 2. Date info\n",
    "\n",
    "Note: Learned from Wechat"
   ]
  },
  {
   "cell_type": "code",
   "execution_count": 8,
   "metadata": {},
   "outputs": [
    {
     "ename": "SyntaxError",
     "evalue": "invalid syntax (<ipython-input-8-7b01b571c8d7>, line 14)",
     "output_type": "error",
     "traceback": [
      "\u001b[1;36m  File \u001b[1;32m\"<ipython-input-8-7b01b571c8d7>\"\u001b[1;36m, line \u001b[1;32m14\u001b[0m\n\u001b[1;33m    list(row) for row in zip(*lists)\u001b[0m\n\u001b[1;37m                ^\u001b[0m\n\u001b[1;31mSyntaxError\u001b[0m\u001b[1;31m:\u001b[0m invalid syntax\n"
     ]
    }
   ],
   "source": [
    "#1. Include all the info\n",
    "\n",
    "num=[2,3,1,4,6]\n",
    "more_num=[*num,11,18]\n",
    "print(more_num)\n",
    "\n",
    "veg=[\"potato\", \"tomato\",\"nappa\", \"lettuce\"]\n",
    "print(veg)\n",
    "print(* veg)\n",
    "\n",
    "print(*num, *veg)\n",
    "\n",
    "def transpose_list(lists):\n",
    "    retrun[\n",
    "        list(row) for row in zip(*lists)\n",
    "    ]\n",
    "    \n",
    "tranpose_list([[1,4,7],[2,5,8],[3,6,9]])\n"
   ]
  },
  {
   "cell_type": "code",
   "execution_count": 11,
   "metadata": {},
   "outputs": [
    {
     "data": {
      "text/plain": [
       "'2018-10-16'"
      ]
     },
     "execution_count": 11,
     "metadata": {},
     "output_type": "execute_result"
    }
   ],
   "source": [
    "date={\"year\":\"2018\",\"month\":\"10\",\"day\":\"16\"}\n",
    "file=\"{year}-{month}-{day}\".format(**date)\n",
    "file"
   ]
  },
  {
   "cell_type": "code",
   "execution_count": 24,
   "metadata": {},
   "outputs": [
    {
     "data": {
      "text/plain": [
       "2"
      ]
     },
     "execution_count": 24,
     "metadata": {},
     "output_type": "execute_result"
    }
   ],
   "source": [
    "from random import randint\n",
    "\n",
    "dice=[1,2,3,4,5]\n",
    "\n",
    "def roll(*dice):\n",
    "    return sum(randint(1,die) for die in dice)\n",
    "\n",
    "roll(4)"
   ]
  },
  {
   "cell_type": "code",
   "execution_count": null,
   "metadata": {
    "collapsed": true
   },
   "outputs": [],
   "source": []
  }
 ],
 "metadata": {
  "kernelspec": {
   "display_name": "Python 3",
   "language": "python",
   "name": "python3"
  },
  "language_info": {
   "codemirror_mode": {
    "name": "ipython",
    "version": 3
   },
   "file_extension": ".py",
   "mimetype": "text/x-python",
   "name": "python",
   "nbconvert_exporter": "python",
   "pygments_lexer": "ipython3",
   "version": "3.6.3"
  }
 },
 "nbformat": 4,
 "nbformat_minor": 2
}
