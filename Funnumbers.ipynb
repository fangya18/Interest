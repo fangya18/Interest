{
 "cells": [
  {
   "cell_type": "markdown",
   "metadata": {},
   "source": [
    "#### 1. Sum of the squares of a number's divisors is perfect square number\n",
    "\n",
    "For example, 42 satisfies this condition:\n",
    "\n",
    "Suppose we want to find out the number like 42.\n",
    "\n",
    "the divisors of 42 are 1,2,3,6,7,14,21,42\n",
    "\n",
    "the square of divisors are 1,4,9,36,49, 196, 441, 1764\n",
    "\n",
    "Sum of the square of divisors are 1+4+9+ 36+49+196+441+1764=2500\n",
    "\n",
    "2500=500 * 500 is a perfect square "
   ]
  },
  {
   "cell_type": "code",
   "execution_count": 1,
   "metadata": {
    "collapsed": true
   },
   "outputs": [],
   "source": [
    "def list_squared(m,n):\n",
    "    list=[]\n",
    "    for i in range(m,n+1):\n",
    "        sum=0\n",
    "        s_list=[]\n",
    "        for j in range(1,int(i**0.5)+1):\n",
    "            if i%j==0:\n",
    "                div=i/j\n",
    "                sum+=j**2\n",
    "                if j!=div:\n",
    "                    sum+=div**2\n",
    "        sqt=sum**0.5\n",
    "        if int(sqt)==sqt:\n",
    "            s_list=[i,sum]\n",
    "            list.append(s_list)\n",
    "    return list\n",
    "    "
   ]
  },
  {
   "cell_type": "code",
   "execution_count": 2,
   "metadata": {},
   "outputs": [
    {
     "data": {
      "text/plain": [
       "[[42, 2500.0], [246, 84100.0]]"
      ]
     },
     "execution_count": 2,
     "metadata": {},
     "output_type": "execute_result"
    }
   ],
   "source": [
    "list_squared(42,250)"
   ]
  },
  {
   "cell_type": "code",
   "execution_count": 4,
   "metadata": {},
   "outputs": [
    {
     "data": {
      "text/plain": [
       "[[1, 1], [42, 2500.0]]"
      ]
     },
     "execution_count": 4,
     "metadata": {},
     "output_type": "execute_result"
    }
   ],
   "source": [
    "list_squared(1,42)"
   ]
  },
  {
   "cell_type": "markdown",
   "metadata": {},
   "source": [
    "#### 2. Snail  number series"
   ]
  },
  {
   "cell_type": "markdown",
   "metadata": {},
   "source": [
    "We want to rotate the matrix in the direction of a snail. "
   ]
  },
  {
   "cell_type": "code",
   "execution_count": 11,
   "metadata": {},
   "outputs": [],
   "source": [
    "array=[[1,2,3],\n",
    "       [4,5,6],\n",
    "       [7,8,9]]\n"
   ]
  },
  {
   "cell_type": "code",
   "execution_count": null,
   "metadata": {},
   "outputs": [],
   "source": []
  },
  {
   "cell_type": "code",
   "execution_count": 17,
   "metadata": {
    "collapsed": true
   },
   "outputs": [],
   "source": [
    "import numpy as np"
   ]
  },
  {
   "cell_type": "code",
   "execution_count": 18,
   "metadata": {
    "collapsed": true
   },
   "outputs": [],
   "source": [
    "def snail(array):\n",
    "    m=[]\n",
    "    array=np.array(array)\n",
    "    while len(array)>0:\n",
    "        m +=array[0].tolist()\n",
    "        array=np.rot90(array[1:])\n",
    "    return m\n"
   ]
  },
  {
   "cell_type": "code",
   "execution_count": 19,
   "metadata": {},
   "outputs": [
    {
     "data": {
      "text/plain": [
       "[1, 2, 3, 6, 9, 8, 7, 4, 5]"
      ]
     },
     "execution_count": 19,
     "metadata": {},
     "output_type": "execute_result"
    }
   ],
   "source": [
    "snail(array)"
   ]
  },
  {
   "cell_type": "code",
   "execution_count": 29,
   "metadata": {
    "collapsed": true
   },
   "outputs": [],
   "source": [
    "#note: these two excercise extract from wechat: cai niao xue python"
   ]
  },
  {
   "cell_type": "code",
   "execution_count": null,
   "metadata": {
    "collapsed": true
   },
   "outputs": [],
   "source": []
  },
  {
   "cell_type": "code",
   "execution_count": 27,
   "metadata": {
    "collapsed": true
   },
   "outputs": [],
   "source": []
  },
  {
   "cell_type": "code",
   "execution_count": null,
   "metadata": {},
   "outputs": [],
   "source": []
  },
  {
   "cell_type": "code",
   "execution_count": null,
   "metadata": {
    "collapsed": true
   },
   "outputs": [],
   "source": []
  }
 ],
 "metadata": {
  "kernelspec": {
   "display_name": "Python 3",
   "language": "python",
   "name": "python3"
  },
  "language_info": {
   "codemirror_mode": {
    "name": "ipython",
    "version": 3
   },
   "file_extension": ".py",
   "mimetype": "text/x-python",
   "name": "python",
   "nbconvert_exporter": "python",
   "pygments_lexer": "ipython3",
   "version": "3.6.3"
  }
 },
 "nbformat": 4,
 "nbformat_minor": 2
}
